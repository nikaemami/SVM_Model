{
 "cells": [
  {
   "cell_type": "markdown",
   "metadata": {},
   "source": [
    "**SVM MODEL**\n",
    "\n",
    "\n",
    "The **kernel functions** are used to map the original dataset into a **higher dimensional space** with the view to make it a linear dataset. These kernels are different in case of making the **hyperplane decision boundary** between the classes.\n",
    "\n",
    "\n",
    "Usually **linear** and **polynomial** kernels are less time consuming and provides less accuracy than the **RBF** or **Gaussian kernels**.\n",
    "\n",
    "\n",
    "the **linear** kernel works fine if the dataset is linearly separable.\n",
    "\n",
    "\n",
    "**RBF** uses normal curves around the data points, and sums these so that the decision boundary can be defined by a type of topology condition such as curves where the sum is above a value of 0.5. But, **polynomial** features are derived features from given features in the data set. We require more polynomial features if our dataset is complex, leading to slow model training as the feature increases. \n",
    "\n",
    "First, I normalize the data and split it to train and test sets, using sklearn library:"
   ]
  },
  {
   "cell_type": "code",
   "execution_count": 2,
   "metadata": {},
   "outputs": [],
   "source": [
    "from sklearn.svm import SVC\n",
    "import pandas as pd\n",
    "import numpy as np\n",
    "from sklearn.model_selection import train_test_split\n",
    "from sklearn.preprocessing import StandardScaler\n",
    "\n",
    "data = pd.read_csv(\"/Users/Nika/Desktop/q5.csv\")\n",
    "Xs = pd.DataFrame(data, columns=[\" Mean of the integrated profile\", \" Standard deviation of the integrated profile\", \" Excess kurtosis of the integrated profile\", \" Skewness of the integrated profile\", \" Mean of the DM-SNR curve\", \" Standard deviation of the DM-SNR curve\", \" Excess kurtosis of the DM-SNR curve\", \" Skewness of the DM-SNR curve\"])\n",
    "ys = pd.DataFrame(data, columns=[\"target_class\"])\n",
    "X = np.asarray(Xs[[\" Mean of the integrated profile\", \" Standard deviation of the integrated profile\", \" Excess kurtosis of the integrated profile\", \" Skewness of the integrated profile\", \" Mean of the DM-SNR curve\", \" Standard deviation of the DM-SNR curve\", \" Excess kurtosis of the DM-SNR curve\", \" Skewness of the DM-SNR curve\"]])\n",
    "scaler = StandardScaler()\n",
    "X = scaler.fit_transform(X)\n",
    "y = np.asarray(ys[\"target_class\"])\n",
    "\n",
    "training_data, testing_data, training_labels, testing_labels = train_test_split(X,y)    "
   ]
  },
  {
   "cell_type": "markdown",
   "metadata": {},
   "source": [
    "Then, I implement different SVM models, by fixing the kernel as **linear**, and changing the value of **C**.\n",
    "\n",
    "\n",
    "kernel = linear , c = 1, 100, 1000"
   ]
  },
  {
   "cell_type": "code",
   "execution_count": 4,
   "metadata": {},
   "outputs": [
    {
     "name": "stdout",
     "output_type": "stream",
     "text": [
      "accuracy = 0.9812290502793296\n"
     ]
    }
   ],
   "source": [
    "svm_clf = SVC(kernel=\"linear\", C=1)\n",
    "clf = svm_clf.fit(training_data, training_labels)\n",
    "print(\"accuracy =\",clf.score(testing_data,testing_labels))"
   ]
  },
  {
   "cell_type": "code",
   "execution_count": 5,
   "metadata": {},
   "outputs": [
    {
     "name": "stdout",
     "output_type": "stream",
     "text": [
      "accuracy = 0.9812290502793296\n"
     ]
    }
   ],
   "source": [
    "svm_clf = SVC(kernel=\"linear\", C=100)\n",
    "clf = svm_clf.fit(training_data, training_labels)\n",
    "print(\"accuracy =\",clf.score(testing_data,testing_labels))"
   ]
  },
  {
   "cell_type": "code",
   "execution_count": 14,
   "metadata": {},
   "outputs": [
    {
     "name": "stdout",
     "output_type": "stream",
     "text": [
      "accuracy = 0.9812290502793296\n"
     ]
    }
   ],
   "source": [
    "svm_clf = SVC(kernel=\"linear\", C=1000)\n",
    "clf = svm_clf.fit(training_data, training_labels)\n",
    "print(\"accuracy =\",clf.score(testing_data,testing_labels))"
   ]
  },
  {
   "cell_type": "markdown",
   "metadata": {},
   "source": [
    "Then, I implement different SVM models by fixing the kernel as **RBF**, and changing the value of **C**.\n",
    "\n",
    "\n",
    "kernel = RBF , c = 1, 100, 1000"
   ]
  },
  {
   "cell_type": "code",
   "execution_count": 7,
   "metadata": {},
   "outputs": [
    {
     "name": "stdout",
     "output_type": "stream",
     "text": [
      "accuracy = 0.9722905027932961\n"
     ]
    }
   ],
   "source": [
    "svm_clf = SVC(kernel=\"rbf\", C=1)\n",
    "clf = svm_clf.fit(training_data, training_labels)\n",
    "print(\"accuracy =\",clf.score(testing_data,testing_labels))"
   ]
  },
  {
   "cell_type": "code",
   "execution_count": 8,
   "metadata": {},
   "outputs": [
    {
     "name": "stdout",
     "output_type": "stream",
     "text": [
      "accuracy = 0.9787709497206704\n"
     ]
    }
   ],
   "source": [
    "svm_clf = SVC(kernel=\"rbf\", C=100)\n",
    "clf = svm_clf.fit(training_data, training_labels)\n",
    "print(\"accuracy =\",clf.score(testing_data,testing_labels))"
   ]
  },
  {
   "cell_type": "code",
   "execution_count": 9,
   "metadata": {},
   "outputs": [
    {
     "name": "stdout",
     "output_type": "stream",
     "text": [
      "accuracy = 0.980782122905028\n"
     ]
    }
   ],
   "source": [
    "svm_clf = SVC(kernel=\"rbf\", C=1000)\n",
    "clf = svm_clf.fit(training_data, training_labels)\n",
    "print(\"accuracy =\",clf.score(testing_data,testing_labels))"
   ]
  },
  {
   "cell_type": "markdown",
   "metadata": {},
   "source": [
    "Now, I implement different SVM models by fixing the kernel as **polynomial**, and changing the value of **C**.\n",
    "\n",
    "\n",
    "kernel = polynomial , c = 1, 100"
   ]
  },
  {
   "cell_type": "code",
   "execution_count": 10,
   "metadata": {},
   "outputs": [
    {
     "name": "stdout",
     "output_type": "stream",
     "text": [
      "accuracy = 0.9711731843575419\n"
     ]
    }
   ],
   "source": [
    "svm_clf = SVC(kernel=\"poly\", C=1)\n",
    "clf = svm_clf.fit(training_data, training_labels)\n",
    "print(\"accuracy =\",clf.score(testing_data,testing_labels))"
   ]
  },
  {
   "cell_type": "code",
   "execution_count": 11,
   "metadata": {},
   "outputs": [
    {
     "name": "stdout",
     "output_type": "stream",
     "text": [
      "accuracy = 0.9769832402234637\n"
     ]
    }
   ],
   "source": [
    "svm_clf = SVC(kernel=\"poly\", C=100)\n",
    "clf = svm_clf.fit(training_data, training_labels)\n",
    "print(\"accuracy =\",clf.score(testing_data,testing_labels))"
   ]
  },
  {
   "cell_type": "markdown",
   "metadata": {},
   "source": [
    "Setting the kernel as **sigmoid**, and changing the value of **C**:\n",
    "\n",
    "\n",
    "kernel = sigmoid , c = 1, 100"
   ]
  },
  {
   "cell_type": "code",
   "execution_count": 12,
   "metadata": {},
   "outputs": [
    {
     "name": "stdout",
     "output_type": "stream",
     "text": [
      "accuracy = 0.9246927374301676\n"
     ]
    }
   ],
   "source": [
    "svm_clf = SVC(kernel=\"sigmoid\", C=1)\n",
    "clf = svm_clf.fit(training_data, training_labels)\n",
    "print(\"accuracy =\",clf.score(testing_data,testing_labels))"
   ]
  },
  {
   "cell_type": "code",
   "execution_count": 13,
   "metadata": {},
   "outputs": [
    {
     "name": "stdout",
     "output_type": "stream",
     "text": [
      "accuracy = 0.9217877094972067\n"
     ]
    }
   ],
   "source": [
    "svm_clf = SVC(kernel=\"sigmoid\", C=100)\n",
    "clf = svm_clf.fit(training_data, training_labels)\n",
    "print(\"accuracy =\",clf.score(testing_data,testing_labels))"
   ]
  },
  {
   "cell_type": "markdown",
   "metadata": {},
   "source": [
    "As it can be seen from the above implementations, the accuracy of the **linear kernel** is higher than the other kernels, but different values of **'C'**, didn't have much effect on the accuracy of the linear kernels.\n",
    "\n",
    "\n",
    "Now, I implement a **grid search** algorithm to optimize my SVM model weights:\n",
    "\n",
    "\n",
    "Grid Search on Linear kernel:"
   ]
  },
  {
   "cell_type": "code",
   "execution_count": 27,
   "metadata": {},
   "outputs": [
    {
     "name": "stdout",
     "output_type": "stream",
     "text": [
      "SVC(C=10, gamma=0.9, kernel='linear')\n",
      "0.9788423293286377\n"
     ]
    }
   ],
   "source": [
    "from sklearn.model_selection import GridSearchCV\n",
    "from sklearn import svm\n",
    "parameters = {'kernel': ['linear'], 'C':[1, 10, 100, 500], 'gamma': [0.9 ,0.7 ,0.5 ,0.3 ,0.1]}\n",
    "svc = svm.SVC()\n",
    "clf = GridSearchCV(svc, parameters)\n",
    "clf = clf.fit(training_data, training_labels)\n",
    "sorted(clf.cv_results_.keys())\n",
    "print(clf.best_estimator_)\n",
    "print(clf.best_score_)"
   ]
  },
  {
   "cell_type": "markdown",
   "metadata": {},
   "source": [
    "Grid Search on RBF kernel:"
   ]
  },
  {
   "cell_type": "code",
   "execution_count": null,
   "metadata": {},
   "outputs": [],
   "source": [
    "from sklearn.model_selection import GridSearchCV\n",
    "from sklearn import svm\n",
    "parameters = {'kernel': ['rbf'],'C':[1, 10, 100]}\n",
    "svc = svm.SVC()\n",
    "clf = GridSearchCV(svc, parameters)\n",
    "clf = clf.fit(training_data, training_labels)\n",
    "sorted(clf.cv_results_.keys())\n",
    "print(clf.best_estimator_)\n",
    "print(clf.best_score_)"
   ]
  },
  {
   "cell_type": "markdown",
   "metadata": {},
   "source": [
    "Grid Search on Polynomial kernel:"
   ]
  },
  {
   "cell_type": "code",
   "execution_count": 28,
   "metadata": {},
   "outputs": [
    {
     "name": "stdout",
     "output_type": "stream",
     "text": [
      "SVC(C=500, gamma=0.05, kernel='poly')\n",
      "0.9776503009766128\n"
     ]
    }
   ],
   "source": [
    "from sklearn.model_selection import GridSearchCV\n",
    "from sklearn import svm\n",
    "parameters = {'kernel': ['poly'], 'degree': [2, 3, 4], 'C':[1, 10, 100, 500], 'gamma':[0.01, 0.03, 0.05]}\n",
    "svc = svm.SVC()\n",
    "clf = GridSearchCV(svc, parameters)\n",
    "clf = clf.fit(training_data, training_labels)\n",
    "sorted(clf.cv_results_.keys())\n",
    "print(clf.best_estimator_)\n",
    "print(clf.best_score_)"
   ]
  },
  {
   "cell_type": "markdown",
   "metadata": {},
   "source": [
    "As it can be seen in this part, the maximum accuracy belongs to the **RBF** kernel with C=10."
   ]
  },
  {
   "cell_type": "markdown",
   "metadata": {},
   "source": [
    "Now, I define a function for implementing the **confusion matrix**:"
   ]
  },
  {
   "cell_type": "code",
   "execution_count": 5,
   "metadata": {},
   "outputs": [],
   "source": [
    "from sklearn.metrics import classification_report, confusion_matrix\n",
    "import matplotlib.pyplot as plt\n",
    "import itertools\n",
    "\n",
    "def plot_confusion_matrix(cm,\n",
    "                          classes,\n",
    "                          normalize=False,\n",
    "                          title='Confusion matrix',\n",
    "                          cmap=plt.cm.Blues):\n",
    "\n",
    "    print(cm)\n",
    "    plt.imshow(cm, interpolation='nearest', cmap=cmap)\n",
    "    plt.title(title)\n",
    "    plt.colorbar()\n",
    "    tick_marks = np.arange(len(classes))\n",
    "    plt.xticks(tick_marks, classes, rotation=45)\n",
    "    plt.yticks(tick_marks, classes)\n",
    "\n",
    "    fmt = 'd'\n",
    "    thresh = cm.max() / 2.\n",
    "    for i, j in itertools.product(range(cm.shape[0]), range(cm.shape[1])):\n",
    "        plt.text(j,\n",
    "                 i,\n",
    "                 format(cm[i, j], fmt),\n",
    "                 horizontalalignment=\"center\",\n",
    "                 color=\"white\" if cm[i, j] > thresh else \"black\")\n",
    "\n",
    "    plt.tight_layout()\n",
    "    plt.ylabel('True label')\n",
    "    plt.xlabel('Predicted label')"
   ]
  },
  {
   "cell_type": "markdown",
   "metadata": {},
   "source": [
    "Plotting the confusion matrix for best estimator of part b:"
   ]
  },
  {
   "cell_type": "code",
   "execution_count": 7,
   "metadata": {},
   "outputs": [
    {
     "name": "stdout",
     "output_type": "stream",
     "text": [
      "[[4008   23]\n",
      " [  75  369]]\n"
     ]
    },
    {
     "data": {
      "image/png": "[encoded data removed]",
      "text/plain": [
       "<Figure size 432x288 with 2 Axes>"
      ]
     },
     "metadata": {
      "needs_background": "light"
     },
     "output_type": "display_data"
    }
   ],
   "source": [
    "svm_clf = SVC(kernel=\"linear\", C=1)\n",
    "clf = svm_clf.fit(training_data, training_labels)\n",
    "yhat = clf.predict(testing_data)\n",
    "cnf_matrix = confusion_matrix(testing_labels, yhat)\n",
    "plt.figure()\n",
    "plot_confusion_matrix(cnf_matrix,\n",
    "                      classes=['0', '1'],\n",
    "                      normalize=False,\n",
    "                      title='Confusion matrix')"
   ]
  },
  {
   "cell_type": "markdown",
   "metadata": {},
   "source": [
    "Plotting the confusion matrix for best estimator of part c:"
   ]
  },
  {
   "cell_type": "code",
   "execution_count": 6,
   "metadata": {},
   "outputs": [
    {
     "name": "stdout",
     "output_type": "stream",
     "text": [
      "[[4007   24]\n",
      " [  73  371]]\n"
     ]
    },
    {
     "data": {
      "image/png": "[encoded data removed]",
      "text/plain": [
       "<Figure size 432x288 with 2 Axes>"
      ]
     },
     "metadata": {
      "needs_background": "light"
     },
     "output_type": "display_data"
    }
   ],
   "source": [
    "svm_clf = SVC(kernel=\"rbf\", C=10)\n",
    "clf = svm_clf.fit(training_data, training_labels)\n",
    "yhat = clf.predict(testing_data)\n",
    "cnf_matrix = confusion_matrix(testing_labels, yhat)\n",
    "plt.figure()\n",
    "plot_confusion_matrix(cnf_matrix,\n",
    "                      classes=['0', '1'],\n",
    "                      normalize=False,\n",
    "                      title='Confusion matrix')"
   ]
  },
  {
   "cell_type": "markdown",
   "metadata": {},
   "source": [
    "As it is shown in the results, the confusion matrices are very similar in these 2 cases, and the confusion matrix for the best estimator of part b, is a little bit better than that of part c. "
   ]
  }
 ],
 "metadata": {
  "interpreter": {
   "hash": "eeab3e71adb6dbd0e75fb9a8c9bdb5e7c4aba7cf3fd60c4dcf30c1777b01516d"
  },
  "kernelspec": {
   "display_name": "Python 3",
   "language": "python",
   "name": "python3"
  },
  "language_info": {
   "codemirror_mode": {
    "name": "ipython",
    "version": 3
   },
   "file_extension": ".py",
   "mimetype": "text/x-python",
   "name": "python",
   "nbconvert_exporter": "python",
   "pygments_lexer": "ipython3",
   "version": "3.8.5"
  }
 },
 "nbformat": 4,
 "nbformat_minor": 2
}
